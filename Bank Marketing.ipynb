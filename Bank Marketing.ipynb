{
 "cells": [
  {
   "cell_type": "markdown",
   "metadata": {},
   "source": [
    "# Bank Marketing ML"
   ]
  },
  {
   "cell_type": "markdown",
   "metadata": {},
   "source": [
    "## Introduction"
   ]
  },
  {
   "cell_type": "markdown",
   "metadata": {},
   "source": [
    "* **Client:** age, job, marital, education, default status, housing, and loan\n",
    "* **Campaign:** last contact type, last contact month of year, last contact day of the week, and last contact duration\n",
    "* **Others:** number of contacts performed in current campaign, number of days that passed by after the client was last contacted, number of contacts performed before this campaign, outcome of previous campaign, and whether a client has subscribed a term deposit\n"
   ]
  },
  {
   "cell_type": "markdown",
   "metadata": {},
   "source": [
    "## Data Import"
   ]
  },
  {
   "cell_type": "code",
   "execution_count": 4,
   "metadata": {},
   "outputs": [],
   "source": [
    "zipFile <- \"bank.zip\"\n",
    "\n",
    "fileURL <- \"https://archive.ics.uci.edu/ml/machine-learning-databases/00222/bank.zip\"\n",
    "  download.file(fileURL, zipFile, method=\"curl\")\n",
    "\n",
    "unzip(zipFile)"
   ]
  },
  {
   "cell_type": "code",
   "execution_count": 9,
   "metadata": {},
   "outputs": [],
   "source": [
    "bank_dat <- read.csv(\"bank-full.csv\",sep = \";\")"
   ]
  },
  {
   "cell_type": "code",
   "execution_count": 10,
   "metadata": {},
   "outputs": [
    {
     "data": {
      "text/html": [
       "<table>\n",
       "<thead><tr><th></th><th scope=col>age</th><th scope=col>job</th><th scope=col>marital</th><th scope=col>education</th><th scope=col>default</th><th scope=col>balance</th><th scope=col>housing</th><th scope=col>loan</th><th scope=col>contact</th><th scope=col>day</th><th scope=col>month</th><th scope=col>duration</th><th scope=col>campaign</th><th scope=col>pdays</th><th scope=col>previous</th><th scope=col>poutcome</th><th scope=col>y</th></tr></thead>\n",
       "<tbody>\n",
       "\t<tr><th scope=row>1</th><td>58        </td><td>management</td><td>married   </td><td>tertiary  </td><td>no        </td><td>2143      </td><td>yes       </td><td>no        </td><td>unknown   </td><td>5         </td><td>may       </td><td>261       </td><td>1         </td><td>-1        </td><td>0         </td><td>unknown   </td><td>no        </td></tr>\n",
       "\t<tr><th scope=row>2</th><td>44        </td><td>technician</td><td>single    </td><td>secondary </td><td>no        </td><td>29        </td><td>yes       </td><td>no        </td><td>unknown   </td><td>5         </td><td>may       </td><td>151       </td><td>1         </td><td>-1        </td><td>0         </td><td>unknown   </td><td>no        </td></tr>\n",
       "\t<tr><th scope=row>3</th><td>33          </td><td>entrepreneur</td><td>married     </td><td>secondary   </td><td>no          </td><td>2           </td><td>yes         </td><td>yes         </td><td>unknown     </td><td>5           </td><td>may         </td><td>76          </td><td>1           </td><td>-1          </td><td>0           </td><td>unknown     </td><td>no          </td></tr>\n",
       "\t<tr><th scope=row>4</th><td>47         </td><td>blue-collar</td><td>married    </td><td>unknown    </td><td>no         </td><td>1506       </td><td>yes        </td><td>no         </td><td>unknown    </td><td>5          </td><td>may        </td><td>92         </td><td>1          </td><td>-1         </td><td>0          </td><td>unknown    </td><td>no         </td></tr>\n",
       "\t<tr><th scope=row>5</th><td>33     </td><td>unknown</td><td>single </td><td>unknown</td><td>no     </td><td>1      </td><td>no     </td><td>no     </td><td>unknown</td><td>5      </td><td>may    </td><td>198    </td><td>1      </td><td>-1     </td><td>0      </td><td>unknown</td><td>no     </td></tr>\n",
       "\t<tr><th scope=row>6</th><td>35        </td><td>management</td><td>married   </td><td>tertiary  </td><td>no        </td><td>231       </td><td>yes       </td><td>no        </td><td>unknown   </td><td>5         </td><td>may       </td><td>139       </td><td>1         </td><td>-1        </td><td>0         </td><td>unknown   </td><td>no        </td></tr>\n",
       "</tbody>\n",
       "</table>\n"
      ],
      "text/latex": [
       "\\begin{tabular}{r|lllllllllllllllll}\n",
       "  & age & job & marital & education & default & balance & housing & loan & contact & day & month & duration & campaign & pdays & previous & poutcome & y\\\\\n",
       "\\hline\n",
       "\t1 & 58         & management & married    & tertiary   & no         & 2143       & yes        & no         & unknown    & 5          & may        & 261        & 1          & -1         & 0          & unknown    & no        \\\\\n",
       "\t2 & 44         & technician & single     & secondary  & no         & 29         & yes        & no         & unknown    & 5          & may        & 151        & 1          & -1         & 0          & unknown    & no        \\\\\n",
       "\t3 & 33           & entrepreneur & married      & secondary    & no           & 2            & yes          & yes          & unknown      & 5            & may          & 76           & 1            & -1           & 0            & unknown      & no          \\\\\n",
       "\t4 & 47          & blue-collar & married     & unknown     & no          & 1506        & yes         & no          & unknown     & 5           & may         & 92          & 1           & -1          & 0           & unknown     & no         \\\\\n",
       "\t5 & 33      & unknown & single  & unknown & no      & 1       & no      & no      & unknown & 5       & may     & 198     & 1       & -1      & 0       & unknown & no     \\\\\n",
       "\t6 & 35         & management & married    & tertiary   & no         & 231        & yes        & no         & unknown    & 5          & may        & 139        & 1          & -1         & 0          & unknown    & no        \\\\\n",
       "\\end{tabular}\n"
      ],
      "text/plain": [
       "  age          job marital education default balance housing loan contact day\n",
       "1  58   management married  tertiary      no    2143     yes   no unknown   5\n",
       "2  44   technician  single secondary      no      29     yes   no unknown   5\n",
       "3  33 entrepreneur married secondary      no       2     yes  yes unknown   5\n",
       "4  47  blue-collar married   unknown      no    1506     yes   no unknown   5\n",
       "5  33      unknown  single   unknown      no       1      no   no unknown   5\n",
       "6  35   management married  tertiary      no     231     yes   no unknown   5\n",
       "  month duration campaign pdays previous poutcome  y\n",
       "1   may      261        1    -1        0  unknown no\n",
       "2   may      151        1    -1        0  unknown no\n",
       "3   may       76        1    -1        0  unknown no\n",
       "4   may       92        1    -1        0  unknown no\n",
       "5   may      198        1    -1        0  unknown no\n",
       "6   may      139        1    -1        0  unknown no"
      ]
     },
     "metadata": {},
     "output_type": "display_data"
    }
   ],
   "source": [
    "head(bank_dat)"
   ]
  },
  {
   "cell_type": "code",
   "execution_count": 12,
   "metadata": {},
   "outputs": [
    {
     "data": {
      "text/plain": [
       "      age                 job           marital          education    \n",
       " Min.   :18.00   blue-collar:9732   divorced: 5207   primary  : 6851  \n",
       " 1st Qu.:33.00   management :9458   married :27214   secondary:23202  \n",
       " Median :39.00   technician :7597   single  :12790   tertiary :13301  \n",
       " Mean   :40.94   admin.     :5171                    unknown  : 1857  \n",
       " 3rd Qu.:48.00   services   :4154                                     \n",
       " Max.   :95.00   retired    :2264                                     \n",
       "                 (Other)    :6835                                     \n",
       " default        balance       housing      loan            contact     \n",
       " no :44396   Min.   : -8019   no :20081   no :37967   cellular :29285  \n",
       " yes:  815   1st Qu.:    72   yes:25130   yes: 7244   telephone: 2906  \n",
       "             Median :   448                           unknown  :13020  \n",
       "             Mean   :  1362                                            \n",
       "             3rd Qu.:  1428                                            \n",
       "             Max.   :102127                                            \n",
       "                                                                       \n",
       "      day            month          duration         campaign     \n",
       " Min.   : 1.00   may    :13766   Min.   :   0.0   Min.   : 1.000  \n",
       " 1st Qu.: 8.00   jul    : 6895   1st Qu.: 103.0   1st Qu.: 1.000  \n",
       " Median :16.00   aug    : 6247   Median : 180.0   Median : 2.000  \n",
       " Mean   :15.81   jun    : 5341   Mean   : 258.2   Mean   : 2.764  \n",
       " 3rd Qu.:21.00   nov    : 3970   3rd Qu.: 319.0   3rd Qu.: 3.000  \n",
       " Max.   :31.00   apr    : 2932   Max.   :4918.0   Max.   :63.000  \n",
       "                 (Other): 6060                                    \n",
       "     pdays          previous           poutcome       y        \n",
       " Min.   : -1.0   Min.   :  0.0000   failure: 4901   no :39922  \n",
       " 1st Qu.: -1.0   1st Qu.:  0.0000   other  : 1840   yes: 5289  \n",
       " Median : -1.0   Median :  0.0000   success: 1511              \n",
       " Mean   : 40.2   Mean   :  0.5803   unknown:36959              \n",
       " 3rd Qu.: -1.0   3rd Qu.:  0.0000                              \n",
       " Max.   :871.0   Max.   :275.0000                              \n",
       "                                                               "
      ]
     },
     "metadata": {},
     "output_type": "display_data"
    }
   ],
   "source": [
    "summary(bank_dat)"
   ]
  },
  {
   "cell_type": "code",
   "execution_count": 13,
   "metadata": {},
   "outputs": [
    {
     "data": {
      "text/html": [
       "<ol class=list-inline>\n",
       "\t<li>45211</li>\n",
       "\t<li>17</li>\n",
       "</ol>\n"
      ],
      "text/latex": [
       "\\begin{enumerate*}\n",
       "\\item 45211\n",
       "\\item 17\n",
       "\\end{enumerate*}\n"
      ],
      "text/markdown": [
       "1. 45211\n",
       "2. 17\n",
       "\n",
       "\n"
      ],
      "text/plain": [
       "[1] 45211    17"
      ]
     },
     "metadata": {},
     "output_type": "display_data"
    }
   ],
   "source": [
    "dim(bank_dat)"
   ]
  },
  {
   "cell_type": "markdown",
   "metadata": {},
   "source": [
    "## Data Exploration"
   ]
  },
  {
   "cell_type": "code",
   "execution_count": null,
   "metadata": {},
   "outputs": [],
   "source": []
  }
 ],
 "metadata": {
  "kernelspec": {
   "display_name": "R",
   "language": "R",
   "name": "ir"
  },
  "language_info": {
   "codemirror_mode": "r",
   "file_extension": ".r",
   "mimetype": "text/x-r-source",
   "name": "R",
   "pygments_lexer": "r",
   "version": "3.3.2"
  },
  "toc": {
   "colors": {
    "hover_highlight": "#DAA520",
    "navigate_num": "#000000",
    "navigate_text": "#333333",
    "running_highlight": "#FF0000",
    "selected_highlight": "#FFD700",
    "sidebar_border": "#EEEEEE",
    "wrapper_background": "#FFFFFF"
   },
   "moveMenuLeft": true,
   "nav_menu": {
    "height": "92px",
    "width": "254px"
   },
   "navigate_menu": true,
   "number_sections": true,
   "sideBar": true,
   "threshold": 4,
   "toc_cell": false,
   "toc_section_display": "block",
   "toc_window_display": true,
   "widenNotebook": false
  }
 },
 "nbformat": 4,
 "nbformat_minor": 2
}
