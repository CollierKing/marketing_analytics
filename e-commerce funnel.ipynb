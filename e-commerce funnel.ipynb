{
 "cells": [
  {
   "cell_type": "markdown",
   "metadata": {},
   "source": [
    "# Intro\n",
    "Optimizing on-site or in-app sales is one of, if not the most, common problems in online retail. I thought it'd make a great topic for a post since many folks are familiar with the problem and will, hopefully, find the discussion productive and useful.\n",
    "\n",
    "This post explores methods we use at Harbor Island when working with clients to boost conversion rates and improve checkout funnels on their sites and e-commerce web apps. Our goal is to answer this question:\n",
    "\n",
    "How do we measure the results of our actions with some degree of statistical confidence? In other words, how do we know that any change in conversion rate is the result of our actions and NOT by random chance?\n",
    "One note--this post doesn't talk about A/B testing. A/B testing is a valuable practice, but running experiments with two or more simultaneous checkout flows isn't always practical for small and medium e-retailers. This post covers alternative ways to ask and answers questions about a sales conversion funnel.\n",
    "\n",
    "# Dataset\n",
    "Working with different online retailers has given me ample opportunity to get familiar with lots of different web analytics services.\n",
    "\n",
    "From Mixpanel and Heap to Shopify and Magento there are dozens of platforms for tracking/measuring what users are doing on your site or in your app. The most common one in my experience is Google Analytics, so we'll use GA for this post."
   ]
  },
  {
   "cell_type": "code",
   "execution_count": 3,
   "metadata": {},
   "outputs": [
    {
     "ename": "ERROR",
     "evalue": "Error in identical(body, FALSE): object 'redirect.uri' not found\n",
     "output_type": "error",
     "traceback": [
      "Error in identical(body, FALSE): object 'redirect.uri' not found\nTraceback:\n",
      "1. rga.open(instance = \"ga\", where = \"ga.rga\")",
      "2. .rga.getToken(client.id, client.secret)",
      "3. .rga.authenticate(client.id = client.id, client.secret = client.secret, \n .     code = code, redirect.uri = redirect.uri)",
      "4. httr::POST(\"https://accounts.google.com/o/oauth2/token\", body = list(code = code, \n .     client_id = client.id, client_secret = client.secret, redirect_uri = redirect.uri, \n .     grant_type = \"authorization_code\"))",
      "5. request_build(\"POST\", hu$url, body_config(body, match.arg(encode)), \n .     as.request(config), ...)",
      "6. body_config(body, match.arg(encode))",
      "7. identical(body, FALSE)"
     ]
    }
   ],
   "source": [
    "library(devtools)\n",
    "\n",
    "# install_github(\"rga\", \"skardhamar\")\n",
    "library(rga)\n",
    "\n",
    "# Save the GA instance locally. it'll open your browser\n",
    "# and prompt for auth once. reuse the local auth file to\n",
    "# avoid re-authenticating later.\n",
    "rga.open(instance=\"ga\", where=\"ga.rga\")"
   ]
  },
  {
   "cell_type": "markdown",
   "metadata": {},
   "source": [
    "# Setup GA Parameters\n",
    "\n",
    "Next, let's set up the parameters in a way that we can easily find and change them for future re-runs of the analysis:\n",
    "\n",
    "Note: A full List of Google Analytics parameters can be found here: Google Analytics Dimensions & Metrics Reference"
   ]
  },
  {
   "cell_type": "code",
   "execution_count": null,
   "metadata": {},
   "outputs": [],
   "source": []
  },
  {
   "cell_type": "code",
   "execution_count": null,
   "metadata": {},
   "outputs": [],
   "source": []
  }
 ],
 "metadata": {
  "kernelspec": {
   "display_name": "R",
   "language": "R",
   "name": "ir"
  },
  "language_info": {
   "codemirror_mode": "r",
   "file_extension": ".r",
   "mimetype": "text/x-r-source",
   "name": "R",
   "pygments_lexer": "r",
   "version": "3.3.2"
  },
  "toc": {
   "colors": {
    "hover_highlight": "#DAA520",
    "navigate_num": "#000000",
    "navigate_text": "#333333",
    "running_highlight": "#FF0000",
    "selected_highlight": "#FFD700",
    "sidebar_border": "#EEEEEE",
    "wrapper_background": "#FFFFFF"
   },
   "moveMenuLeft": true,
   "nav_menu": {
    "height": "66px",
    "width": "252px"
   },
   "navigate_menu": true,
   "number_sections": true,
   "sideBar": true,
   "threshold": 4,
   "toc_cell": false,
   "toc_section_display": "block",
   "toc_window_display": false,
   "widenNotebook": false
  }
 },
 "nbformat": 4,
 "nbformat_minor": 2
}
